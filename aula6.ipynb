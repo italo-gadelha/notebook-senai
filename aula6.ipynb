{
 "cells": [
  {
   "cell_type": "markdown",
   "metadata": {},
   "source": [
    "## Operador ternário\n",
    "- Usar operador ternário quando as alternativas forem pequenas, e quando tiver apenas 2 ou no máximo 3 alternativas.\n",
    "- No exemplo a variável precisa ser inteira"
   ]
  },
  {
   "cell_type": "code",
   "execution_count": 10,
   "metadata": {},
   "outputs": [
    {
     "name": "stdout",
     "output_type": "stream",
     "text": [
      "karython é maior de idade.\n"
     ]
    }
   ],
   "source": [
    "nome = 'karython'\n",
    "idade = 18\n",
    "\n",
    "print(nome, 'é maior de idade.' if idade >= 18 else 'é menor de idade')"
   ]
  },
  {
   "cell_type": "markdown",
   "metadata": {},
   "source": [
    "## Replace\n",
    "- substituir"
   ]
  },
  {
   "cell_type": "code",
   "execution_count": 11,
   "metadata": {},
   "outputs": [
    {
     "name": "stdout",
     "output_type": "stream",
     "text": [
      "<class 'str'>\n",
      "<class 'float'>\n"
     ]
    }
   ],
   "source": [
    "peso = input(\"Digite seu peso: \").replace(',','.')\n",
    "print(type(peso))\n",
    "peso = float(peso)\n",
    "print(type(peso))\n"
   ]
  },
  {
   "cell_type": "markdown",
   "metadata": {},
   "source": [
    "## Desafio 01\n",
    "- Crie um programa para fazer a verificação de um cliente para saber se ele pode usar o brinquedo ou não.\n",
    "    - Para brincar ele precisa:\n",
    "        - ter mais que 12 anos\n",
    "        - ter altura minima de 1,20 mts"
   ]
  },
  {
   "cell_type": "code",
   "execution_count": 2,
   "metadata": {},
   "outputs": [
    {
     "name": "stdout",
     "output_type": "stream",
     "text": [
      "Pode brincar\n"
     ]
    },
    {
     "data": {
      "text/plain": [
       "\"if idade > 12 and altura >= 1.2:\\n    print('Pode brincar!')\\nelse:\\n    print('Infelizmente, não pode :(')\""
      ]
     },
     "execution_count": 2,
     "metadata": {},
     "output_type": "execute_result"
    }
   ],
   "source": [
    "# TODO: Resposta desafio 01\n",
    "\n",
    "#Usuário informando a idade.\n",
    "idade = int(input('Digite sua idade: '))\n",
    "\n",
    "#Tratando a altura, caso usuário use \" , \" o replace irá substituir por \" . \".\n",
    "altura = input('Digite sua altura: ').replace(',','.')\n",
    "\n",
    "#Transformando em float.\n",
    "altura = float(altura)\n",
    "\n",
    "#Verificação, se tiver mais de 12 anos E altura igual ou maior que 1.2m, o usuário poderá brincar, caso contrário não!\n",
    "print('Pode brincar :)' if idade > 12 and altura >= 1.2 else 'Infelizmente, não pode :(')\n",
    "\n"
   ]
  },
  {
   "cell_type": "markdown",
   "metadata": {},
   "source": [
    "## Desafio 02\n",
    "- Crie um programa que verifica se o aluno poderar ir a praia.\n",
    "    - Para ir a praia ele precisa:\n",
    "        - Verifica se acordei de bom humor\n",
    "        - Verifica se o pai ja chegou em casa para leva-lo"
   ]
  },
  {
   "cell_type": "code",
   "execution_count": 18,
   "metadata": {},
   "outputs": [
    {
     "name": "stdout",
     "output_type": "stream",
     "text": [
      "Não vou hoje a praia :(\n"
     ]
    }
   ],
   "source": [
    "# TODO: Resposta desafio 02\n",
    "\n",
    "#Verificando se o humor do usuário e tratando os dados\n",
    "humor = input('Digite \"BOM\" se acordou de bom humor ou \"MAU\" se acordou de MAU humor??').replace('bom','BOM')\n",
    "\n",
    "#Verificando se o pai está em casa e tratando os dados\n",
    "pai_em_casa = input('Pai chegou? Digite SIM ou NAO').replace('sim','SIM')\n",
    "\n",
    "#Como a condição de ir para a praia o humor tem que estar BOM e o pai tem SIM que estar em casa, qualquer outra informação o usuário não vai a praia.\n",
    "print('Vamos a praia pois estou de bom humor :D' if humor == 'BOM' and pai_em_casa == 'SIM' else 'Não vou hoje a praia :(')"
   ]
  },
  {
   "cell_type": "markdown",
   "metadata": {},
   "source": [
    "## Desafio 03\n",
    "- Crie um programa que calcule o indice de massa corporal de um usuário\n",
    "    - pegue os valores de altura e peso\n",
    "        - use a conversão de valores\n",
    "        - use replace\n",
    "        - imprima se ele esta acima do peso ou nao"
   ]
  },
  {
   "cell_type": "code",
   "execution_count": 19,
   "metadata": {},
   "outputs": [
    {
     "name": "stdout",
     "output_type": "stream",
     "text": [
      "Você com o peso ideal, pois seu IMC é 22.37654320987654\n"
     ]
    }
   ],
   "source": [
    "# TODO: Resposta desafio 03\n",
    "\n",
    "#Recebendo as informações da altura do usuário e tratando os dados\n",
    "altura = input('informe sua altura: ').replace(',','.')\n",
    "altura = float(altura)\n",
    "\n",
    "#Recebendo as informações do peso do usuário e tratando os dados\n",
    "peso = input('digite o seu peso: ').replace(',','.')\n",
    "peso = float(peso)\n",
    "\n",
    "#Calculando o IMC\n",
    "imc = peso/(altura * altura)\n",
    "\n",
    "\n",
    "if imc < 25 > 18.5:\n",
    "    print(f'Você com o peso ideal, pois seu IMC é {imc}')\n",
    "elif imc > 25:\n",
    "    print(f'Você está acima do peso, pois seu IMC é {imc}')\n",
    "else:\n",
    "    print('abaixo do peso')\n",
    "\n"
   ]
  },
  {
   "cell_type": "markdown",
   "metadata": {},
   "source": [
    "## Desafio 04\n",
    "- Crie uma calculadora de IMC\n",
    "    - Imprima as seguintes condições:?\n",
    "        - imc <17: está com anorexia.\n",
    "        - imc <18.5: está abaixo do peso\n",
    "        - imc <25: está no peso ideal.\n",
    "        - imc <30: está acima do peso.\n",
    "        - imc <35: está com grau de obesidade I.\n",
    "        - imc <40: está com grau de obesidade II.\n",
    "        - imc: está com grau de obesidade mórbida."
   ]
  },
  {
   "cell_type": "code",
   "execution_count": 35,
   "metadata": {},
   "outputs": [
    {
     "name": "stdout",
     "output_type": "stream",
     "text": [
      "Você está com anorexia, pois seu IMC é 15.432098765432098\n"
     ]
    }
   ],
   "source": [
    "# TODO: Resposta desafio 04\n",
    "\n",
    "#Recebendo as informações da altura do usuário e tratando os dados\n",
    "altura = input('informe sua altura: ').replace(',','.')\n",
    "altura = float(altura)\n",
    "\n",
    "#Recebendo as informações do peso do usuário e tratando os dados\n",
    "peso = input('digite o seu peso: ').replace(',','.')\n",
    "peso = float(peso)\n",
    "\n",
    "#Calculando o IMC\n",
    "imc = peso/(altura * altura)\n",
    "\n",
    "#Verificando as possibilidade de acordo com as condições: \n",
    "if imc < 17:\n",
    "    print(f'Você está com anorexia, pois seu IMC é {imc}')\n",
    "elif imc > 17 and imc < 18.5:\n",
    "    print(f'Você está muito abaixo do peso, pois seu IMC é {imc}')\n",
    "elif imc > 18.5 and imc < 25:\n",
    "    print(f'Você está abaixo do peso, pois seu IMC é {imc}')\n",
    "elif imc < 25 and imc > 18.5:\n",
    "    print(f'Você com o peso ideal, pois seu IMC é {imc}')\n",
    "elif imc > 25 and imc < 30:\n",
    "    print(f'Você está acima do peso, pois seu IMC é {imc}')\n",
    "elif imc > 30 and imc < 35:\n",
    "    print(f'Você está com Obesidade grau I, pois seu IMC é {imc}')\n",
    "elif imc > 35 and imc < 40:\n",
    "    print(f'Você está com Obesidade grau II, pois seu IMC é {imc}')\n",
    "else:\n",
    "    print(f'Você está com Obesidade Mórbida, pois seu IMC é {imc}')"
   ]
  },
  {
   "cell_type": "markdown",
   "metadata": {},
   "source": [
    "## Desafio 05\n",
    "- Crie uma calculadora basica.\n",
    "    - Solicite 2 números do usuário e pergunte qual operação matemática ele deseja fazer.\n",
    "        -   +; -; /; *\n",
    "        - imprima o resultado correto para cada operação"
   ]
  },
  {
   "cell_type": "code",
   "execution_count": 39,
   "metadata": {},
   "outputs": [
    {
     "name": "stdout",
     "output_type": "stream",
     "text": [
      "O valor da soma entre 5.0 + 5.0 =  10.0\n"
     ]
    }
   ],
   "source": [
    "# TODO: Resposta desafio 05\n",
    "\n",
    "#Recebendo informações do usuário.\n",
    "\n",
    "#Recebendo o primeiro valor:\n",
    "num1 = float(input('informe o primeiro número: '))\n",
    "\n",
    "#Recebendo o operador lógico:\n",
    "ope = str(input('informe o operador lógico: + , - , / ou * '))\n",
    "\n",
    "#Recebendo o segundo valor:\n",
    "num2 = float(input('informe o segundo número: '))\n",
    "\n",
    "#Verificando condições de acordo com o operador lógico.\n",
    "if ope == \"+\":\n",
    "    soma = num1 + num2\n",
    "    print(f'O valor da soma entre {num1} + {num2} = ',soma)\n",
    "elif ope == \"-\":\n",
    "    soma = num1 - num2\n",
    "    print(f'O valor da subtração entre {num1} - {num2} = ',soma)\n",
    "elif ope == \"/\":\n",
    "    soma = num1 / num2\n",
    "    print(f'O valor da divisão entre {num1} / {num2} = ',soma)\n",
    "elif ope == \"*\":\n",
    "    soma = num1 * num2\n",
    "    print(f'O valor da multiplicação entre {num1} * {num2} = ',soma)\n",
    "else:\n",
    "    print('Operação inválida.')"
   ]
  }
 ],
 "metadata": {
  "kernelspec": {
   "display_name": "Python 3",
   "language": "python",
   "name": "python3"
  },
  "language_info": {
   "codemirror_mode": {
    "name": "ipython",
    "version": 3
   },
   "file_extension": ".py",
   "mimetype": "text/x-python",
   "name": "python",
   "nbconvert_exporter": "python",
   "pygments_lexer": "ipython3",
   "version": "3.12.4"
  }
 },
 "nbformat": 4,
 "nbformat_minor": 2
}
