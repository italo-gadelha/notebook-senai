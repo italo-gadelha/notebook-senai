{
 "cells": [
  {
   "cell_type": "markdown",
   "metadata": {},
   "source": [
    "## WHILE"
   ]
  },
  {
   "cell_type": "code",
   "execution_count": 2,
   "metadata": {},
   "outputs": [
    {
     "name": "stdout",
     "output_type": "stream",
     "text": [
      "2\n",
      "Contando...\n",
      "4\n",
      "Contando...\n",
      "6\n",
      "Contando...\n",
      "8\n",
      "Contando...\n",
      "10\n",
      "Contando...\n"
     ]
    }
   ],
   "source": [
    "cont = 0\n",
    "\n",
    "while cont < 10:\n",
    "    cont += 1\n",
    "    if cont % 2 ==0:\n",
    "        print(cont)\n",
    "    else:\n",
    "        continue\n",
    "    print('Contando...')"
   ]
  },
  {
   "cell_type": "code",
   "execution_count": 3,
   "metadata": {},
   "outputs": [
    {
     "name": "stdout",
     "output_type": "stream",
     "text": [
      "2\n",
      "Contando...\n",
      "4\n",
      "Contando...\n",
      "6\n",
      "Contando...\n"
     ]
    }
   ],
   "source": [
    "cont = 0\n",
    "\n",
    "while cont < 15:\n",
    "    cont += 1\n",
    "    if cont % 2 ==0:\n",
    "        print(cont)\n",
    "    elif cont >=7:\n",
    "        break\n",
    "    else:\n",
    "        continue\n",
    "    print('Contando...')"
   ]
  },
  {
   "cell_type": "code",
   "execution_count": 6,
   "metadata": {},
   "outputs": [
    {
     "name": "stdout",
     "output_type": "stream",
     "text": [
      "Contagem regressiva: 3...\n",
      "Contagem regressiva: 2...\n",
      "Contagem regressiva: 1...\n",
      "Contagem regressiva: 0...\n",
      "Boom\n"
     ]
    }
   ],
   "source": [
    "import os\n",
    "import time\n",
    "\n",
    "cont = int(input(\"Digite um numero interio: \"))\n",
    "\n",
    "while cont >=0:\n",
    "    os.system('cls') #Limpar o terminal\n",
    "    print(f'Contagem regressiva: {cont}...')\n",
    "    time.sleep(1) #atrasa o proximo comando \n",
    "    cont -= 1\n",
    "\n",
    "os.system('cls')\n",
    "print('Boom')"
   ]
  },
  {
   "cell_type": "code",
   "execution_count": 7,
   "metadata": {},
   "outputs": [
    {
     "name": "stdout",
     "output_type": "stream",
     "text": [
      "Contando...\n",
      "2\n",
      "Contando...\n",
      "Contando...\n",
      "4\n",
      "Contando...\n",
      "6\n",
      "Contando...\n",
      "8\n",
      "Contando...\n",
      "10\n",
      "Contando...\n",
      "12\n",
      "Contando...\n",
      "14\n",
      "Contando...\n"
     ]
    }
   ],
   "source": [
    " #Pass\n",
    " \n",
    "cont = 0\n",
    "\n",
    "while cont < 20:\n",
    "    cont += 1\n",
    "    if cont % 2 == 0:\n",
    "        print(cont)\n",
    "    elif cont < 5:\n",
    "        pass\n",
    "    elif cont >=15:\n",
    "        break\n",
    "    else:\n",
    "        continue\n",
    "    \n",
    "    print('Contando...')"
   ]
  },
  {
   "cell_type": "markdown",
   "metadata": {},
   "source": [
    "Criar um programa que LISTE 5 salas de cinema, e mostre os filmes de cada uma das salas e suas classificações indicativas. O usuário deverá informar sua IDADE e a SALA com o FILME desejado. Caso o usuário tenha a idade mínima para ver o filme, o programa irá imprimir o ingresso para o filme desejado. Caso o usuário não tenha a idade mínima, o programa deverá informar que ele não tem idade para ver o filme, e deverá retornar a lista de filmes para que o usuário escolha outro filme.\n",
    "\n",
    "listar 5 salas de cinema - ok\n",
    "usuário informa idade e sala com o filme - ok\n",
    "usuario com idade minima, o programa ira imprimir o ingresso - ok\n",
    "se n tiver idade, informara que n tem idade para ver o filme e retornara para a escolha de filme."
   ]
  },
  {
   "cell_type": "code",
   "execution_count": 1,
   "metadata": {},
   "outputs": [
    {
     "name": "stdout",
     "output_type": "stream",
     "text": [
      "OBRIGADO, INGRESSO PARA A SALA:  5\n"
     ]
    }
   ],
   "source": [
    "import os\n",
    "idade = int(input('Digite sua idade: '))\n",
    "sala = int(input('Sala nº 1: X-man - +18 \\n Sala nº 2: True Crime - +18 \\n Sala nº 3: Barbie - Livre \\n Sala nº 4: Berserk - +18\\n Sala nº 5: Demon Slayer - Mansão Infinita - +16\\n Informe o número da sala: '))\n",
    "\n",
    "if idade >= 18:\n",
    "    os.system('cls')\n",
    "    print('OBRIGADO, INGRESSO PARA A SALA: ', sala)\n",
    "elif idade >=16:\n",
    "    while True:\n",
    "            if sala == 3 or sala == 5:\n",
    "                os.system('cls')\n",
    "                print('OBRIGADO, INGRESSO PARA A SALA: ', sala)\n",
    "                break\n",
    "            else:\n",
    "                os.system('cls')\n",
    "                print('Não tem idade suficiente para assistir o filme, por favor, escolha outro filme.')\n",
    "                sala = int(input(' Sala nº 1: X-man - +18 \\n Sala nº 2: True Crime - +18 \\n Sala nº 3: Barbie - Livre \\n Sala nº 4: Berserk - +18\\n Sala nº 5: Demon Slayer - Mansão Infinita - +16\\n Informe o número da sala: '))\n",
    "                continue\n",
    "else:\n",
    "    os.system('cls')\n",
    "    print('OBRIGADO, INGRESSO PARA A SALA: ', sala)"
   ]
  }
 ],
 "metadata": {
  "kernelspec": {
   "display_name": ".venv",
   "language": "python",
   "name": "python3"
  },
  "language_info": {
   "codemirror_mode": {
    "name": "ipython",
    "version": 3
   },
   "file_extension": ".py",
   "mimetype": "text/x-python",
   "name": "python",
   "nbconvert_exporter": "python",
   "pygments_lexer": "ipython3",
   "version": "3.12.4"
  }
 },
 "nbformat": 4,
 "nbformat_minor": 2
}
