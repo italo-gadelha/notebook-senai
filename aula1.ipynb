{
 "cells": [
  {
   "cell_type": "markdown",
   "metadata": {},
   "source": [
    "# Python Essencial"
   ]
  },
  {
   "cell_type": "markdown",
   "metadata": {},
   "source": [
    "- Algoritmo\n",
    "- Comentários\n",
    "- Variável\n",
    "- Estrutura de Seleção\n",
    "- Git\n",
    "- Github\n",
    "- Compartilhar Notebook no Github"
   ]
  },
  {
   "cell_type": "markdown",
   "metadata": {},
   "source": [
    "#### CAP.1 - Algoritmo fritar ovo\n",
    "##### Introdução\n",
    "###### Passo a Passo para realizar uma determinada tarefa\n",
    "O algoritimo é uma sequência para realizar um determinada tarefa. Por exemplo, fritar um ovo. Qual é o algoritmo para fritar o ovo:\n",
    "\n",
    "- Passo 1: pegar o ovo na gelareira;\n",
    "- Passo 2: pegar a frigideira;\n",
    "- Passo 3: colocar a frigideira no fogão;\n",
    "- Passo 4: ligar o fogo;\n",
    "- Passo 5: Pegar manteiga;\n",
    "- Passo 6: colocar manteiga na frigideira;\n",
    "- Passo 7: quebra o ovo na frigideira;\n",
    "- Passo 8: colocar o sal;\n",
    "- Passo 9: esperar o ovo fritar;\n",
    "- Passo 10: Comer o ovo."
   ]
  },
  {
   "cell_type": "code",
   "execution_count": null,
   "metadata": {},
   "outputs": [],
   "source": []
  }
 ],
 "metadata": {
  "language_info": {
   "name": "python"
  }
 },
 "nbformat": 4,
 "nbformat_minor": 2
}
