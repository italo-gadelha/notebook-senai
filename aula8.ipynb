{
 "cells": [
  {
   "cell_type": "markdown",
   "metadata": {},
   "source": [
    "# FOR"
   ]
  },
  {
   "cell_type": "code",
   "execution_count": 1,
   "metadata": {},
   "outputs": [
    {
     "name": "stdout",
     "output_type": "stream",
     "text": [
      "0\n",
      "1\n",
      "2\n",
      "3\n",
      "4\n"
     ]
    }
   ],
   "source": [
    "for n in range(5):\n",
    "    print(n)"
   ]
  },
  {
   "cell_type": "code",
   "execution_count": 3,
   "metadata": {},
   "outputs": [
    {
     "name": "stdout",
     "output_type": "stream",
     "text": [
      "x\n",
      "x1\n",
      "x2\n",
      "x3\n",
      "x4\n"
     ]
    }
   ],
   "source": [
    "name = ['x','x1','x2','x3','x4']\n",
    "for n in name:\n",
    "    print(n)"
   ]
  },
  {
   "cell_type": "code",
   "execution_count": 4,
   "metadata": {},
   "outputs": [
    {
     "name": "stdout",
     "output_type": "stream",
     "text": [
      "0\n",
      "2\n",
      "4\n",
      "6\n",
      "8\n",
      "10\n",
      "12\n",
      "14\n",
      "16\n",
      "18\n",
      "20\n"
     ]
    }
   ],
   "source": [
    "for i in range(0,21):\n",
    "    if i % 2 ==0:\n",
    "        print(i)"
   ]
  },
  {
   "cell_type": "code",
   "execution_count": 6,
   "metadata": {},
   "outputs": [
    {
     "name": "stdout",
     "output_type": "stream",
     "text": [
      "5\n",
      "15\n",
      "25\n",
      "35\n",
      "45\n",
      "55\n",
      "65\n",
      "75\n",
      "85\n",
      "95\n",
      "105\n",
      "115\n",
      "125\n",
      "135\n",
      "145\n",
      "155\n",
      "165\n",
      "175\n",
      "185\n",
      "195\n"
     ]
    }
   ],
   "source": [
    "termo = int(input(\"Digite o primeiro termo: \"))\n",
    "razao = int(input(\"Digite a razão: \"))\n",
    "\n",
    "pa = termo + (20 - 1) * razao\n",
    "\n",
    "for i in range(termo, pa + razao, razao):\n",
    "    print(i)"
   ]
  },
  {
   "cell_type": "code",
   "execution_count": 8,
   "metadata": {},
   "outputs": [
    {
     "name": "stdout",
     "output_type": "stream",
     "text": [
      "                   *\n",
      "                  ***\n",
      "                 *****\n",
      "                *******\n",
      "               *********\n",
      "              ***********\n",
      "             *************\n",
      "            ***************\n",
      "           *****************\n",
      "          *******************\n",
      "         *********************\n",
      "        ***********************\n",
      "       *************************\n",
      "      ***************************\n",
      "     *****************************\n",
      "    *******************************\n",
      "   *********************************\n",
      "  ***********************************\n",
      " *************************************\n",
      "***************************************\n"
     ]
    }
   ],
   "source": [
    "altura = 20\n",
    "espacamento = 0\n",
    "asterisco = 1\n",
    "simbolo = '*'\n",
    "\n",
    "for i in range(altura):\n",
    "    espacamento = altura - i - 1\n",
    "    \n",
    "    for j in range(espacamento):\n",
    "        print(' ',end='')\n",
    "        \n",
    "    for k in range(asterisco):\n",
    "        print(simbolo, end='')\n",
    "    print()\n",
    "    asterisco +=2\n",
    "    \n",
    "    "
   ]
  },
  {
   "cell_type": "code",
   "execution_count": 10,
   "metadata": {},
   "outputs": [
    {
     "name": "stdout",
     "output_type": "stream",
     "text": [
      "O sorteado é jiasijsjisda\n",
      "Programa finalizado\n",
      "Lista dos nomes: ['dasjoi', 'iasjasfji', 'jiasijsjisda']\n",
      "Lista dos sorteados: ['dasjoi', 'iasjasfji', 'jiasijsjisda']\n"
     ]
    }
   ],
   "source": [
    "import random\n",
    "import os\n",
    "\n",
    "\n",
    "lista_nome = []\n",
    "lista_sorteados = []\n",
    "\n",
    "while True:\n",
    "    nome = input('Digite os nomes que serão sorteados: ')\n",
    "    if nome != '':\n",
    "        lista_nome.append(nome)\n",
    "        continue\n",
    "    else:\n",
    "        break\n",
    "    \n",
    "while True:\n",
    "    if lista_nome:\n",
    "        os.system('cls')\n",
    "        escolhido = random.choice(lista_nome)\n",
    "        lista_sorteados.append(escolhido)\n",
    "        print(f'O sorteado é {escolhido}')\n",
    "        \n",
    "        opcao = input('Deseja sortear outro nome? (s/n)').lower()\n",
    "        os.system('cls')\n",
    "        \n",
    "        if opcao != 's':\n",
    "            break\n",
    "        else:\n",
    "            print('Não existe nomes para serem sorteados')\n",
    "            \n",
    "print('Programa finalizado')\n",
    "print(f'Lista dos nomes: {lista_nome}')\n",
    "print(f'Lista dos sorteados: {lista_nome}')\n"
   ]
  }
 ],
 "metadata": {
  "kernelspec": {
   "display_name": ".venv",
   "language": "python",
   "name": "python3"
  },
  "language_info": {
   "codemirror_mode": {
    "name": "ipython",
    "version": 3
   },
   "file_extension": ".py",
   "mimetype": "text/x-python",
   "name": "python",
   "nbconvert_exporter": "python",
   "pygments_lexer": "ipython3",
   "version": "3.12.4"
  }
 },
 "nbformat": 4,
 "nbformat_minor": 2
}
