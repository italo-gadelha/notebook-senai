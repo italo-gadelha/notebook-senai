{
 "cells": [
  {
   "cell_type": "markdown",
   "metadata": {},
   "source": [
    "### Aula 5 - if"
   ]
  },
  {
   "cell_type": "code",
   "execution_count": 3,
   "metadata": {},
   "outputs": [
    {
     "name": "stdout",
     "output_type": "stream",
     "text": [
      "if é verdadeiro\n",
      "finalizou o código.\n"
     ]
    }
   ],
   "source": [
    "programador = True\n",
    "\n",
    "if programador:\n",
    "    print('if é verdadeiro')\n",
    "else:\n",
    "    print('if falso')\n",
    "\n",
    "print('finalizou o código.')"
   ]
  },
  {
   "cell_type": "code",
   "execution_count": 5,
   "metadata": {},
   "outputs": [
    {
     "name": "stdout",
     "output_type": "stream",
     "text": [
      "Pode ir na montanha russa!\n",
      "finalizou o código.\n"
     ]
    }
   ],
   "source": [
    "idade = 25\n",
    "altura = 1.75\n",
    "\n",
    "if idade >= 18 and altura > 1.60:\n",
    "    print('Pode ir na montanha russa!')\n",
    "else:\n",
    "    print('Menos de idade ou menor de 1.60m')\n",
    "\n",
    "print('finalizou o código.')"
   ]
  },
  {
   "cell_type": "code",
   "execution_count": 7,
   "metadata": {},
   "outputs": [
    {
     "name": "stdout",
     "output_type": "stream",
     "text": [
      "É par\n",
      "finalizou o código.\n"
     ]
    }
   ],
   "source": [
    "# verificando se é par ou ímpar.\n",
    "numero = float(input(\"Digite seu número: \"))\n",
    "\n",
    "if numero % 2 == 0:\n",
    "    print('É par')\n",
    "else:\n",
    "    print('É ímpar')\n",
    "\n",
    "print('finalizou o código.')"
   ]
  },
  {
   "cell_type": "code",
   "execution_count": 12,
   "metadata": {},
   "outputs": [
    {
     "name": "stdout",
     "output_type": "stream",
     "text": [
      "Carga OK.\n",
      "finalizou o código.\n"
     ]
    }
   ],
   "source": [
    "#verificando carga de um elevador com capacidade para 300kg.\n",
    "\n",
    "carga = float(input(\"qual é a carga em kg no elevador?\"))\n",
    "pessoa = float(input(\"qual é o peso da pessoa no elevador?\"))\n",
    "\n",
    "ecarga = carga + pessoa\n",
    "\n",
    "if ecarga > 300:\n",
    "    print('Elevador sobrecarregado.')\n",
    "elif ecarga <= 0:\n",
    "    print('Elevador vazio.')\n",
    "else:\n",
    "    print('Carga OK.')\n",
    "\n",
    "print('finalizou o código.')"
   ]
  },
  {
   "cell_type": "code",
   "execution_count": 27,
   "metadata": {},
   "outputs": [
    {
     "name": "stdout",
     "output_type": "stream",
     "text": [
      "O aluno Fulano foi APROVADO com média 7.75. \n",
      " Com as seguintes notas dos bimestres: \n",
      " Nota primeiro bimestre: 5.0\n",
      " Nota segundo bimestre: 10.0\n",
      " Nota terceiro bimestre: 6.0\n",
      " Nota quarto bimestre: 10.0\n"
     ]
    }
   ],
   "source": [
    "\"\"\"\n",
    "## Desafio 3\n",
    "- Crie um sistema para coletar os dados do aluno, (nome, idade, cpf), em seguida solicite as notas dos 4 bimestres da diciplina de Python que o aluno teve para verificar a MEDIA. ok\n",
    "    - Media para aprovação >= 7\n",
    "    - Media para recuperação >= 5\n",
    "    - Media para reprovação = <5\n",
    "- Para retirar o boletim de notas, o aluno precisa ser maior de idade(18) e caso não seja, somente os pais podem retirar o boletim.\n",
    "    - Imprima as informações do aluno ok\n",
    "    - Imprima as notas do aluno em cada bimestre ok\n",
    "    - Imprima a situação do aluno (aprovado, reprovado, recuperação) ok\n",
    "    - Imprima se o boletim sera retirado pelos pais ou pelo proprio aluno\n",
    "\"\"\"\n",
    "\n",
    "nome = str(input('Digite seu nome: '))\n",
    "idade = int(input('Digite sua idade: '))\n",
    "cpf = str(input('Digite seu CPF: '))\n",
    "pais = int(input('DIGITE \"1\" se estiver com os pais. QUALQUER outro valor se não estiver acompanhado com os pais.'))\n",
    "\n",
    "\n",
    "\n",
    "if idade >= 18 or (pais == 1):                \n",
    "        nota1 = float(input('Informe a nota do primeiro bimestre : '))\n",
    "        nota2 = float(input('Informe a nota do segundo bimestre : '))\n",
    "        nota3 = float(input('Informe a nota do terceiro bimestre : '))\n",
    "        nota4 = float(input('Informe a nota do quarto bimestre : '))\n",
    "        media = (nota1 + nota2 + nota3 + nota4)/4\n",
    "\n",
    "        if media >= 7:\n",
    "            print(f'O aluno {nome} foi APROVADO com média {media}. \\n Com as seguintes notas dos bimestres: \\n Nota primeiro bimestre: {nota1}\\n Nota segundo bimestre: {nota2}\\n Nota terceiro bimestre: {nota3}\\n Nota quarto bimestre: {nota4}')\n",
    "        elif media >=5:\n",
    "            print(f'O aluno {nome} ficou RECUPERAÇÃO com média {media}. \\n Com as seguintes notas dos bimestres: \\n Nota primeiro bimestre: {nota1}\\n Nota segundo bimestre: {nota2}\\n Nota terceiro bimestre: {nota3}\\n Nota quarto bimestre: {nota4}')\n",
    "        else:\n",
    "            print(f'O aluno {nome} foi REPROVADO com média {media}. \\n Com as seguintes notas dos bimestres: \\n Nota primeiro bimestre: {nota1}\\n Nota segundo bimestre: {nota2}\\n Nota terceiro bimestre: {nota3}\\n Nota quarto bimestre: {nota4}')\n",
    "else:\n",
    "    print('Precisa ser maior de idade ou acompanhado dos pais para retirar o boletim.')\n"
   ]
  }
 ],
 "metadata": {
  "kernelspec": {
   "display_name": ".venv",
   "language": "python",
   "name": "python3"
  },
  "language_info": {
   "codemirror_mode": {
    "name": "ipython",
    "version": 3
   },
   "file_extension": ".py",
   "mimetype": "text/x-python",
   "name": "python",
   "nbconvert_exporter": "python",
   "pygments_lexer": "ipython3",
   "version": "3.12.4"
  }
 },
 "nbformat": 4,
 "nbformat_minor": 2
}
