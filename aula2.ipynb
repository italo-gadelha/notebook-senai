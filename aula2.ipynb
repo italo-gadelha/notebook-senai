{
 "cells": [
  {
   "cell_type": "code",
   "execution_count": 1,
   "metadata": {},
   "outputs": [
    {
     "name": "stdout",
     "output_type": "stream",
     "text": [
      "Olá mundo\n"
     ]
    }
   ],
   "source": [
    "print(\"Olá mundo\")"
   ]
  },
  {
   "cell_type": "code",
   "execution_count": 2,
   "metadata": {},
   "outputs": [
    {
     "name": "stdout",
     "output_type": "stream",
     "text": [
      "The Zen of Python, by Tim Peters\n",
      "\n",
      "Beautiful is better than ugly.\n",
      "Explicit is better than implicit.\n",
      "Simple is better than complex.\n",
      "Complex is better than complicated.\n",
      "Flat is better than nested.\n",
      "Sparse is better than dense.\n",
      "Readability counts.\n",
      "Special cases aren't special enough to break the rules.\n",
      "Although practicality beats purity.\n",
      "Errors should never pass silently.\n",
      "Unless explicitly silenced.\n",
      "In the face of ambiguity, refuse the temptation to guess.\n",
      "There should be one-- and preferably only one --obvious way to do it.\n",
      "Although that way may not be obvious at first unless you're Dutch.\n",
      "Now is better than never.\n",
      "Although never is often better than *right* now.\n",
      "If the implementation is hard to explain, it's a bad idea.\n",
      "If the implementation is easy to explain, it may be a good idea.\n",
      "Namespaces are one honking great idea -- let's do more of those!\n"
     ]
    }
   ],
   "source": [
    "import this"
   ]
  },
  {
   "cell_type": "code",
   "execution_count": 4,
   "metadata": {},
   "outputs": [
    {
     "name": "stdout",
     "output_type": "stream",
     "text": [
      "Ítalo\n",
      "71.9 <class 'float'>\n",
      "1.8\n",
      "<class 'bool'>\n"
     ]
    }
   ],
   "source": [
    "nome = \"Ítalo\"\n",
    "peso = 71.9\n",
    "altura = 1.80\n",
    "instrutor = False\n",
    "print(nome)\n",
    "print(peso, type(peso))\n",
    "print(altura)\n",
    "print(type(instrutor))"
   ]
  },
  {
   "cell_type": "code",
   "execution_count": 1,
   "metadata": {},
   "outputs": [
    {
     "name": "stdout",
     "output_type": "stream",
     "text": [
      "Meu nome é ítalo do tipo  <class 'str'> . \n",
      "Minha idade é  27 do tipo <class 'int'> . \n",
      "Meu peso é  72.0 do tipo <class 'float'> . \n",
      "Minha altura é  1.8 do tipo <class 'float'>\n",
      "Olá meu nome é ítalo e minha idade é de 27, peso 72.0 e tenho 1.8m de altura.\n"
     ]
    }
   ],
   "source": [
    "nome = str(input(\"Digite seu nome: \"))\n",
    "idade = int(input(\"Digite sua idade: \"))\n",
    "peso = float(input(\"Digite seu peso: \"))\n",
    "altura = float(input(\"Digite sua altura: \"))\n",
    "print('Meu nome é ' + nome + ' do tipo ', type(nome), '. \\n'+'Minha idade é ', idade , 'do tipo', type(idade),'. \\n'+'Meu peso é ', peso,'do tipo', type(peso),'. \\n'+'Minha altura é ', altura,'do tipo', type(altura))\n",
    "print(f'Olá meu nome é {nome} e minha idade é de {idade}, peso {peso} e tenho {altura}m de altura.')"
   ]
  }
 ],
 "metadata": {
  "kernelspec": {
   "display_name": ".venv",
   "language": "python",
   "name": "python3"
  },
  "language_info": {
   "codemirror_mode": {
    "name": "ipython",
    "version": 3
   },
   "file_extension": ".py",
   "mimetype": "text/x-python",
   "name": "python",
   "nbconvert_exporter": "python",
   "pygments_lexer": "ipython3",
   "version": "3.12.4"
  }
 },
 "nbformat": 4,
 "nbformat_minor": 2
}
